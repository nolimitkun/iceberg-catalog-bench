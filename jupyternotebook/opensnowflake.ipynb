{
 "cells": [
  {
   "cell_type": "code",
   "execution_count": null,
   "id": "28fb1527-6925-4aff-a707-df39df62fbb3",
   "metadata": {},
   "outputs": [
    {
     "name": "stdout",
     "output_type": "stream",
     "text": [
      ":: loading settings :: url = jar:file:/usr/local/lib/python3.10/site-packages/pyspark/jars/ivy-2.5.1.jar!/org/apache/ivy/core/settings/ivysettings.xml\n"
     ]
    },
    {
     "name": "stderr",
     "output_type": "stream",
     "text": [
      "Ivy Default Cache set to: /Users/yuan/.ivy2/cache\n",
      "The jars for the packages stored in: /Users/yuan/.ivy2/jars\n",
      "org.apache.iceberg#iceberg-spark-runtime-3.5_2.12 added as a dependency\n",
      "org.apache.iceberg#iceberg-azure-bundle added as a dependency\n",
      ":: resolving dependencies :: org.apache.spark#spark-submit-parent-46a717aa-e376-45d7-9202-9c0a3be2e0ad;1.0\n",
      "\tconfs: [default]\n",
      "\tfound org.apache.iceberg#iceberg-spark-runtime-3.5_2.12;1.4.1 in central\n",
      "\tfound org.apache.iceberg#iceberg-azure-bundle;1.4.1 in central\n",
      ":: resolution report :: resolve 293ms :: artifacts dl 10ms\n",
      "\t:: modules in use:\n",
      "\torg.apache.iceberg#iceberg-azure-bundle;1.4.1 from central in [default]\n",
      "\torg.apache.iceberg#iceberg-spark-runtime-3.5_2.12;1.4.1 from central in [default]\n",
      "\t---------------------------------------------------------------------\n",
      "\t|                  |            modules            ||   artifacts   |\n",
      "\t|       conf       | number| search|dwnlded|evicted|| number|dwnlded|\n",
      "\t---------------------------------------------------------------------\n",
      "\t|      default     |   2   |   0   |   0   |   0   ||   2   |   0   |\n",
      "\t---------------------------------------------------------------------\n",
      ":: retrieving :: org.apache.spark#spark-submit-parent-46a717aa-e376-45d7-9202-9c0a3be2e0ad\n",
      "\tconfs: [default]\n",
      "\t0 artifacts copied, 2 already retrieved (0kB/13ms)\n",
      "25/09/15 17:33:47 WARN NativeCodeLoader: Unable to load native-hadoop library for your platform... using builtin-java classes where applicable\n",
      "Setting default log level to \"WARN\".\n",
      "To adjust logging level use sc.setLogLevel(newLevel). For SparkR, use setLogLevel(newLevel).\n",
      "25/09/15 17:33:50 WARN Utils: Service 'SparkUI' could not bind on port 4040. Attempting port 4041.\n"
     ]
    }
   ],
   "source": [
    "import pyspark\n",
    "from pyspark.sql import SparkSession\n",
    "\n",
    "spark = SparkSession.builder.appName('iceberg_lab') \\\n",
    ".config('spark.jars.packages', 'org.apache.iceberg:iceberg-spark-runtime-3.5_2.12:1.4.1,org.apache.iceberg:iceberg-azure-bundle:1.4.1') \\\n",
    ".config('spark.sql.extensions', 'org.apache.iceberg.spark.extensions.IcebergSparkSessionExtensions') \\\n",
    ".config('spark.sql.defaultCatalog', 'opencatalog') \\\n",
    ".config('spark.sql.catalog.opencatalog', 'org.apache.iceberg.spark.SparkCatalog') \\\n",
    ".config('spark.sql.catalog.opencatalog.type', 'rest') \\\n",
    ".config('spark.sql.catalog.opencatalog.header.X-Iceberg-Access-Delegation','vended-credentials') \\\n",
    ".config('spark.sql.catalog.opencatalog.uri','https://pxlrpte-vs41448open.snowflakecomputing.com/polaris/api/catalog') \\\n",
    ".config('spark.sql.catalog.opencatalog.credential','4Qdi+HwwOAIBmt2zDe2s8LktPCc=:secret') \\\n",
    ".config('spark.sql.catalog.opencatalog.warehouse','open_snowflake') \\\n",
    ".config('spark.sql.catalog.opencatalog.scope','PRINCIPAL_ROLE:spark') \\\n",
    ".getOrCreate()"
   ]
  },
  {
   "cell_type": "code",
   "execution_count": 2,
   "id": "ef87def6-24a5-4a76-80e1-32a155849ae8",
   "metadata": {},
   "outputs": [
    {
     "name": "stdout",
     "output_type": "stream",
     "text": [
      "+--------------------+\n",
      "|           namespace|\n",
      "+--------------------+\n",
      "|   catalog_linked_db|\n",
      "|external_managed_...|\n",
      "|      open_snowflake|\n",
      "+--------------------+\n",
      "\n"
     ]
    }
   ],
   "source": [
    "#Show namespaces\n",
    "spark.sql(\"show namespaces\").show()"
   ]
  },
  {
   "cell_type": "code",
   "execution_count": 6,
   "id": "7be361e7-b010-4033-9846-1f6fac1c992c",
   "metadata": {},
   "outputs": [
    {
     "data": {
      "text/plain": [
       "DataFrame[]"
      ]
     },
     "execution_count": 6,
     "metadata": {},
     "output_type": "execute_result"
    }
   ],
   "source": [
    "#Create namespace\n",
    "spark.sql(\"create namespace external_managed_namespace\")"
   ]
  },
  {
   "cell_type": "code",
   "execution_count": 8,
   "id": "49d4c5e3-e78e-43d0-9905-81be6d745fcd",
   "metadata": {},
   "outputs": [
    {
     "name": "stdout",
     "output_type": "stream",
     "text": [
      "+---------+---------+-----------+\n",
      "|namespace|tableName|isTemporary|\n",
      "+---------+---------+-----------+\n",
      "+---------+---------+-----------+\n",
      "\n"
     ]
    }
   ],
   "source": [
    "#Use namespace\n",
    "spark.sql(\"use namespace external_managed_namespace\")\n",
    "\n",
    "#Show tables; this will show no tables since it is a new namespace\n",
    "spark.sql(\"show tables\").show()"
   ]
  },
  {
   "cell_type": "code",
   "execution_count": 9,
   "id": "85b81228-c553-44d3-8d93-245b98fbab70",
   "metadata": {},
   "outputs": [
    {
     "name": "stderr",
     "output_type": "stream",
     "text": [
      "25/09/14 18:20:44 WARN Tasks: Retrying task after failure: Malformed request: unsupported_grant_type: The grant type is invalid\n",
      "org.apache.iceberg.exceptions.BadRequestException: Malformed request: unsupported_grant_type: The grant type is invalid\n",
      "\tat org.apache.iceberg.rest.ErrorHandlers$OAuthErrorHandler.accept(ErrorHandlers.java:199)\n",
      "\tat org.apache.iceberg.rest.ErrorHandlers$OAuthErrorHandler.accept(ErrorHandlers.java:173)\n",
      "\tat org.apache.iceberg.rest.HTTPClient.throwFailure(HTTPClient.java:183)\n",
      "\tat org.apache.iceberg.rest.HTTPClient.execute(HTTPClient.java:292)\n",
      "\tat org.apache.iceberg.rest.HTTPClient.execute(HTTPClient.java:226)\n",
      "\tat org.apache.iceberg.rest.HTTPClient.postForm(HTTPClient.java:378)\n",
      "\tat org.apache.iceberg.rest.auth.OAuth2Util.refreshToken(OAuth2Util.java:145)\n",
      "\tat org.apache.iceberg.rest.auth.OAuth2Util.access$000(OAuth2Util.java:55)\n",
      "\tat org.apache.iceberg.rest.auth.OAuth2Util$AuthSession.refreshCurrentToken(OAuth2Util.java:473)\n",
      "\tat org.apache.iceberg.rest.auth.OAuth2Util$AuthSession.lambda$refresh$1(OAuth2Util.java:447)\n",
      "\tat org.apache.iceberg.util.Tasks$Builder.runTaskWithRetry(Tasks.java:413)\n",
      "\tat org.apache.iceberg.util.Tasks$Builder.runSingleThreaded(Tasks.java:219)\n",
      "\tat org.apache.iceberg.util.Tasks$Builder.run(Tasks.java:203)\n",
      "\tat org.apache.iceberg.util.Tasks$Builder.run(Tasks.java:196)\n",
      "\tat org.apache.iceberg.rest.auth.OAuth2Util$AuthSession.refresh(OAuth2Util.java:447)\n",
      "\tat org.apache.iceberg.rest.auth.OAuth2Util$AuthSession.lambda$scheduleTokenRefresh$2(OAuth2Util.java:511)\n",
      "\tat java.base/java.util.concurrent.Executors$RunnableAdapter.call(Executors.java:515)\n",
      "\tat java.base/java.util.concurrent.FutureTask.run(FutureTask.java:264)\n",
      "\tat java.base/java.util.concurrent.ScheduledThreadPoolExecutor$ScheduledFutureTask.run(ScheduledThreadPoolExecutor.java:304)\n",
      "\tat java.base/java.util.concurrent.ThreadPoolExecutor.runWorker(ThreadPoolExecutor.java:1128)\n",
      "\tat java.base/java.util.concurrent.ThreadPoolExecutor$Worker.run(ThreadPoolExecutor.java:628)\n",
      "\tat java.base/java.lang.Thread.run(Thread.java:829)\n",
      "25/09/14 18:20:45 WARN Tasks: Retrying task after failure: Malformed request: unsupported_grant_type: The grant type is invalid\n",
      "org.apache.iceberg.exceptions.BadRequestException: Malformed request: unsupported_grant_type: The grant type is invalid\n",
      "\tat org.apache.iceberg.rest.ErrorHandlers$OAuthErrorHandler.accept(ErrorHandlers.java:199)\n",
      "\tat org.apache.iceberg.rest.ErrorHandlers$OAuthErrorHandler.accept(ErrorHandlers.java:173)\n",
      "\tat org.apache.iceberg.rest.HTTPClient.throwFailure(HTTPClient.java:183)\n",
      "\tat org.apache.iceberg.rest.HTTPClient.execute(HTTPClient.java:292)\n",
      "\tat org.apache.iceberg.rest.HTTPClient.execute(HTTPClient.java:226)\n",
      "\tat org.apache.iceberg.rest.HTTPClient.postForm(HTTPClient.java:378)\n",
      "\tat org.apache.iceberg.rest.auth.OAuth2Util.refreshToken(OAuth2Util.java:145)\n",
      "\tat org.apache.iceberg.rest.auth.OAuth2Util.access$000(OAuth2Util.java:55)\n",
      "\tat org.apache.iceberg.rest.auth.OAuth2Util$AuthSession.refreshCurrentToken(OAuth2Util.java:473)\n",
      "\tat org.apache.iceberg.rest.auth.OAuth2Util$AuthSession.lambda$refresh$1(OAuth2Util.java:447)\n",
      "\tat org.apache.iceberg.util.Tasks$Builder.runTaskWithRetry(Tasks.java:413)\n",
      "\tat org.apache.iceberg.util.Tasks$Builder.runSingleThreaded(Tasks.java:219)\n",
      "\tat org.apache.iceberg.util.Tasks$Builder.run(Tasks.java:203)\n",
      "\tat org.apache.iceberg.util.Tasks$Builder.run(Tasks.java:196)\n",
      "\tat org.apache.iceberg.rest.auth.OAuth2Util$AuthSession.refresh(OAuth2Util.java:447)\n",
      "\tat org.apache.iceberg.rest.auth.OAuth2Util$AuthSession.lambda$scheduleTokenRefresh$2(OAuth2Util.java:511)\n",
      "\tat java.base/java.util.concurrent.Executors$RunnableAdapter.call(Executors.java:515)\n",
      "\tat java.base/java.util.concurrent.FutureTask.run(FutureTask.java:264)\n",
      "\tat java.base/java.util.concurrent.ScheduledThreadPoolExecutor$ScheduledFutureTask.run(ScheduledThreadPoolExecutor.java:304)\n",
      "\tat java.base/java.util.concurrent.ThreadPoolExecutor.runWorker(ThreadPoolExecutor.java:1128)\n",
      "\tat java.base/java.util.concurrent.ThreadPoolExecutor$Worker.run(ThreadPoolExecutor.java:628)\n",
      "\tat java.base/java.lang.Thread.run(Thread.java:829)\n",
      "25/09/14 18:20:45 WARN Tasks: Retrying task after failure: Malformed request: unsupported_grant_type: The grant type is invalid\n",
      "org.apache.iceberg.exceptions.BadRequestException: Malformed request: unsupported_grant_type: The grant type is invalid\n",
      "\tat org.apache.iceberg.rest.ErrorHandlers$OAuthErrorHandler.accept(ErrorHandlers.java:199)\n",
      "\tat org.apache.iceberg.rest.ErrorHandlers$OAuthErrorHandler.accept(ErrorHandlers.java:173)\n",
      "\tat org.apache.iceberg.rest.HTTPClient.throwFailure(HTTPClient.java:183)\n",
      "\tat org.apache.iceberg.rest.HTTPClient.execute(HTTPClient.java:292)\n",
      "\tat org.apache.iceberg.rest.HTTPClient.execute(HTTPClient.java:226)\n",
      "\tat org.apache.iceberg.rest.HTTPClient.postForm(HTTPClient.java:378)\n",
      "\tat org.apache.iceberg.rest.auth.OAuth2Util.refreshToken(OAuth2Util.java:145)\n",
      "\tat org.apache.iceberg.rest.auth.OAuth2Util.access$000(OAuth2Util.java:55)\n",
      "\tat org.apache.iceberg.rest.auth.OAuth2Util$AuthSession.refreshCurrentToken(OAuth2Util.java:473)\n",
      "\tat org.apache.iceberg.rest.auth.OAuth2Util$AuthSession.lambda$refresh$1(OAuth2Util.java:447)\n",
      "\tat org.apache.iceberg.util.Tasks$Builder.runTaskWithRetry(Tasks.java:413)\n",
      "\tat org.apache.iceberg.util.Tasks$Builder.runSingleThreaded(Tasks.java:219)\n",
      "\tat org.apache.iceberg.util.Tasks$Builder.run(Tasks.java:203)\n",
      "\tat org.apache.iceberg.util.Tasks$Builder.run(Tasks.java:196)\n",
      "\tat org.apache.iceberg.rest.auth.OAuth2Util$AuthSession.refresh(OAuth2Util.java:447)\n",
      "\tat org.apache.iceberg.rest.auth.OAuth2Util$AuthSession.lambda$scheduleTokenRefresh$2(OAuth2Util.java:511)\n",
      "\tat java.base/java.util.concurrent.Executors$RunnableAdapter.call(Executors.java:515)\n",
      "\tat java.base/java.util.concurrent.FutureTask.run(FutureTask.java:264)\n",
      "\tat java.base/java.util.concurrent.ScheduledThreadPoolExecutor$ScheduledFutureTask.run(ScheduledThreadPoolExecutor.java:304)\n",
      "\tat java.base/java.util.concurrent.ThreadPoolExecutor.runWorker(ThreadPoolExecutor.java:1128)\n",
      "\tat java.base/java.util.concurrent.ThreadPoolExecutor$Worker.run(ThreadPoolExecutor.java:628)\n",
      "\tat java.base/java.lang.Thread.run(Thread.java:829)\n",
      "25/09/14 18:20:45 WARN Tasks: Retrying task after failure: Malformed request: unsupported_grant_type: The grant type is invalid\n",
      "org.apache.iceberg.exceptions.BadRequestException: Malformed request: unsupported_grant_type: The grant type is invalid\n",
      "\tat org.apache.iceberg.rest.ErrorHandlers$OAuthErrorHandler.accept(ErrorHandlers.java:199)\n",
      "\tat org.apache.iceberg.rest.ErrorHandlers$OAuthErrorHandler.accept(ErrorHandlers.java:173)\n",
      "\tat org.apache.iceberg.rest.HTTPClient.throwFailure(HTTPClient.java:183)\n",
      "\tat org.apache.iceberg.rest.HTTPClient.execute(HTTPClient.java:292)\n",
      "\tat org.apache.iceberg.rest.HTTPClient.execute(HTTPClient.java:226)\n",
      "\tat org.apache.iceberg.rest.HTTPClient.postForm(HTTPClient.java:378)\n",
      "\tat org.apache.iceberg.rest.auth.OAuth2Util.refreshToken(OAuth2Util.java:145)\n",
      "\tat org.apache.iceberg.rest.auth.OAuth2Util.access$000(OAuth2Util.java:55)\n",
      "\tat org.apache.iceberg.rest.auth.OAuth2Util$AuthSession.refreshCurrentToken(OAuth2Util.java:473)\n",
      "\tat org.apache.iceberg.rest.auth.OAuth2Util$AuthSession.lambda$refresh$1(OAuth2Util.java:447)\n",
      "\tat org.apache.iceberg.util.Tasks$Builder.runTaskWithRetry(Tasks.java:413)\n",
      "\tat org.apache.iceberg.util.Tasks$Builder.runSingleThreaded(Tasks.java:219)\n",
      "\tat org.apache.iceberg.util.Tasks$Builder.run(Tasks.java:203)\n",
      "\tat org.apache.iceberg.util.Tasks$Builder.run(Tasks.java:196)\n",
      "\tat org.apache.iceberg.rest.auth.OAuth2Util$AuthSession.refresh(OAuth2Util.java:447)\n",
      "\tat org.apache.iceberg.rest.auth.OAuth2Util$AuthSession.lambda$scheduleTokenRefresh$2(OAuth2Util.java:511)\n",
      "\tat java.base/java.util.concurrent.Executors$RunnableAdapter.call(Executors.java:515)\n",
      "\tat java.base/java.util.concurrent.FutureTask.run(FutureTask.java:264)\n",
      "\tat java.base/java.util.concurrent.ScheduledThreadPoolExecutor$ScheduledFutureTask.run(ScheduledThreadPoolExecutor.java:304)\n",
      "\tat java.base/java.util.concurrent.ThreadPoolExecutor.runWorker(ThreadPoolExecutor.java:1128)\n",
      "\tat java.base/java.util.concurrent.ThreadPoolExecutor$Worker.run(ThreadPoolExecutor.java:628)\n",
      "\tat java.base/java.lang.Thread.run(Thread.java:829)\n",
      "25/09/14 18:20:46 WARN Tasks: Retrying task after failure: Malformed request: unsupported_grant_type: The grant type is invalid\n",
      "org.apache.iceberg.exceptions.BadRequestException: Malformed request: unsupported_grant_type: The grant type is invalid\n",
      "\tat org.apache.iceberg.rest.ErrorHandlers$OAuthErrorHandler.accept(ErrorHandlers.java:199)\n",
      "\tat org.apache.iceberg.rest.ErrorHandlers$OAuthErrorHandler.accept(ErrorHandlers.java:173)\n",
      "\tat org.apache.iceberg.rest.HTTPClient.throwFailure(HTTPClient.java:183)\n",
      "\tat org.apache.iceberg.rest.HTTPClient.execute(HTTPClient.java:292)\n",
      "\tat org.apache.iceberg.rest.HTTPClient.execute(HTTPClient.java:226)\n",
      "\tat org.apache.iceberg.rest.HTTPClient.postForm(HTTPClient.java:378)\n",
      "\tat org.apache.iceberg.rest.auth.OAuth2Util.refreshToken(OAuth2Util.java:145)\n",
      "\tat org.apache.iceberg.rest.auth.OAuth2Util.access$000(OAuth2Util.java:55)\n",
      "\tat org.apache.iceberg.rest.auth.OAuth2Util$AuthSession.refreshCurrentToken(OAuth2Util.java:473)\n",
      "\tat org.apache.iceberg.rest.auth.OAuth2Util$AuthSession.lambda$refresh$1(OAuth2Util.java:447)\n",
      "\tat org.apache.iceberg.util.Tasks$Builder.runTaskWithRetry(Tasks.java:413)\n",
      "\tat org.apache.iceberg.util.Tasks$Builder.runSingleThreaded(Tasks.java:219)\n",
      "\tat org.apache.iceberg.util.Tasks$Builder.run(Tasks.java:203)\n",
      "\tat org.apache.iceberg.util.Tasks$Builder.run(Tasks.java:196)\n",
      "\tat org.apache.iceberg.rest.auth.OAuth2Util$AuthSession.refresh(OAuth2Util.java:447)\n",
      "\tat org.apache.iceberg.rest.auth.OAuth2Util$AuthSession.lambda$scheduleTokenRefresh$2(OAuth2Util.java:511)\n",
      "\tat java.base/java.util.concurrent.Executors$RunnableAdapter.call(Executors.java:515)\n",
      "\tat java.base/java.util.concurrent.FutureTask.run(FutureTask.java:264)\n",
      "\tat java.base/java.util.concurrent.ScheduledThreadPoolExecutor$ScheduledFutureTask.run(ScheduledThreadPoolExecutor.java:304)\n",
      "\tat java.base/java.util.concurrent.ThreadPoolExecutor.runWorker(ThreadPoolExecutor.java:1128)\n",
      "\tat java.base/java.util.concurrent.ThreadPoolExecutor$Worker.run(ThreadPoolExecutor.java:628)\n",
      "\tat java.base/java.lang.Thread.run(Thread.java:829)\n"
     ]
    }
   ],
   "source": [
    "#create a test table\n",
    "spark.sql(\"create table external_managed_table ( first_name STRING,last_name STRING,amount INT,create_date DATE) using iceberg\");"
   ]
  },
  {
   "cell_type": "code",
   "execution_count": 3,
   "id": "4618e5b2-cf41-4476-92e8-e22564c647b6",
   "metadata": {},
   "outputs": [
    {
     "data": {
      "text/plain": [
       "DataFrame[]"
      ]
     },
     "execution_count": 3,
     "metadata": {},
     "output_type": "execute_result"
    }
   ],
   "source": [
    "#Create namespace\n",
    "spark.sql(\"use namespace catalog_linked_db\")"
   ]
  },
  {
   "cell_type": "code",
   "execution_count": 4,
   "id": "ccf56230-fb1a-4bc3-b294-c9039a15d346",
   "metadata": {},
   "outputs": [
    {
     "name": "stderr",
     "output_type": "stream",
     "text": [
      "25/09/15 18:28:57 WARN Tasks: Retrying task after failure: Malformed request: unsupported_grant_type: The grant type is invalid\n",
      "org.apache.iceberg.exceptions.BadRequestException: Malformed request: unsupported_grant_type: The grant type is invalid\n",
      "\tat org.apache.iceberg.rest.ErrorHandlers$OAuthErrorHandler.accept(ErrorHandlers.java:199)\n",
      "\tat org.apache.iceberg.rest.ErrorHandlers$OAuthErrorHandler.accept(ErrorHandlers.java:173)\n",
      "\tat org.apache.iceberg.rest.HTTPClient.throwFailure(HTTPClient.java:183)\n",
      "\tat org.apache.iceberg.rest.HTTPClient.execute(HTTPClient.java:292)\n",
      "\tat org.apache.iceberg.rest.HTTPClient.execute(HTTPClient.java:226)\n",
      "\tat org.apache.iceberg.rest.HTTPClient.postForm(HTTPClient.java:378)\n",
      "\tat org.apache.iceberg.rest.auth.OAuth2Util.refreshToken(OAuth2Util.java:145)\n",
      "\tat org.apache.iceberg.rest.auth.OAuth2Util.access$000(OAuth2Util.java:55)\n",
      "\tat org.apache.iceberg.rest.auth.OAuth2Util$AuthSession.refreshCurrentToken(OAuth2Util.java:473)\n",
      "\tat org.apache.iceberg.rest.auth.OAuth2Util$AuthSession.lambda$refresh$1(OAuth2Util.java:447)\n",
      "\tat org.apache.iceberg.util.Tasks$Builder.runTaskWithRetry(Tasks.java:413)\n",
      "\tat org.apache.iceberg.util.Tasks$Builder.runSingleThreaded(Tasks.java:219)\n",
      "\tat org.apache.iceberg.util.Tasks$Builder.run(Tasks.java:203)\n",
      "\tat org.apache.iceberg.util.Tasks$Builder.run(Tasks.java:196)\n",
      "\tat org.apache.iceberg.rest.auth.OAuth2Util$AuthSession.refresh(OAuth2Util.java:447)\n",
      "\tat org.apache.iceberg.rest.auth.OAuth2Util$AuthSession.lambda$scheduleTokenRefresh$2(OAuth2Util.java:511)\n",
      "\tat java.base/java.util.concurrent.Executors$RunnableAdapter.call(Executors.java:515)\n",
      "\tat java.base/java.util.concurrent.FutureTask.run(FutureTask.java:264)\n",
      "\tat java.base/java.util.concurrent.ScheduledThreadPoolExecutor$ScheduledFutureTask.run(ScheduledThreadPoolExecutor.java:304)\n",
      "\tat java.base/java.util.concurrent.ThreadPoolExecutor.runWorker(ThreadPoolExecutor.java:1128)\n",
      "\tat java.base/java.util.concurrent.ThreadPoolExecutor$Worker.run(ThreadPoolExecutor.java:628)\n",
      "\tat java.base/java.lang.Thread.run(Thread.java:829)\n",
      "25/09/15 18:28:57 WARN Tasks: Retrying task after failure: Malformed request: unsupported_grant_type: The grant type is invalid\n",
      "org.apache.iceberg.exceptions.BadRequestException: Malformed request: unsupported_grant_type: The grant type is invalid\n",
      "\tat org.apache.iceberg.rest.ErrorHandlers$OAuthErrorHandler.accept(ErrorHandlers.java:199)\n",
      "\tat org.apache.iceberg.rest.ErrorHandlers$OAuthErrorHandler.accept(ErrorHandlers.java:173)\n",
      "\tat org.apache.iceberg.rest.HTTPClient.throwFailure(HTTPClient.java:183)\n",
      "\tat org.apache.iceberg.rest.HTTPClient.execute(HTTPClient.java:292)\n",
      "\tat org.apache.iceberg.rest.HTTPClient.execute(HTTPClient.java:226)\n",
      "\tat org.apache.iceberg.rest.HTTPClient.postForm(HTTPClient.java:378)\n",
      "\tat org.apache.iceberg.rest.auth.OAuth2Util.refreshToken(OAuth2Util.java:145)\n",
      "\tat org.apache.iceberg.rest.auth.OAuth2Util.access$000(OAuth2Util.java:55)\n",
      "\tat org.apache.iceberg.rest.auth.OAuth2Util$AuthSession.refreshCurrentToken(OAuth2Util.java:473)\n",
      "\tat org.apache.iceberg.rest.auth.OAuth2Util$AuthSession.lambda$refresh$1(OAuth2Util.java:447)\n",
      "\tat org.apache.iceberg.util.Tasks$Builder.runTaskWithRetry(Tasks.java:413)\n",
      "\tat org.apache.iceberg.util.Tasks$Builder.runSingleThreaded(Tasks.java:219)\n",
      "\tat org.apache.iceberg.util.Tasks$Builder.run(Tasks.java:203)\n",
      "\tat org.apache.iceberg.util.Tasks$Builder.run(Tasks.java:196)\n",
      "\tat org.apache.iceberg.rest.auth.OAuth2Util$AuthSession.refresh(OAuth2Util.java:447)\n",
      "\tat org.apache.iceberg.rest.auth.OAuth2Util$AuthSession.lambda$scheduleTokenRefresh$2(OAuth2Util.java:511)\n",
      "\tat java.base/java.util.concurrent.Executors$RunnableAdapter.call(Executors.java:515)\n",
      "\tat java.base/java.util.concurrent.FutureTask.run(FutureTask.java:264)\n",
      "\tat java.base/java.util.concurrent.ScheduledThreadPoolExecutor$ScheduledFutureTask.run(ScheduledThreadPoolExecutor.java:304)\n",
      "\tat java.base/java.util.concurrent.ThreadPoolExecutor.runWorker(ThreadPoolExecutor.java:1128)\n",
      "\tat java.base/java.util.concurrent.ThreadPoolExecutor$Worker.run(ThreadPoolExecutor.java:628)\n",
      "\tat java.base/java.lang.Thread.run(Thread.java:829)\n",
      "25/09/15 18:28:58 WARN Tasks: Retrying task after failure: Malformed request: unsupported_grant_type: The grant type is invalid\n",
      "org.apache.iceberg.exceptions.BadRequestException: Malformed request: unsupported_grant_type: The grant type is invalid\n",
      "\tat org.apache.iceberg.rest.ErrorHandlers$OAuthErrorHandler.accept(ErrorHandlers.java:199)\n",
      "\tat org.apache.iceberg.rest.ErrorHandlers$OAuthErrorHandler.accept(ErrorHandlers.java:173)\n",
      "\tat org.apache.iceberg.rest.HTTPClient.throwFailure(HTTPClient.java:183)\n",
      "\tat org.apache.iceberg.rest.HTTPClient.execute(HTTPClient.java:292)\n",
      "\tat org.apache.iceberg.rest.HTTPClient.execute(HTTPClient.java:226)\n",
      "\tat org.apache.iceberg.rest.HTTPClient.postForm(HTTPClient.java:378)\n",
      "\tat org.apache.iceberg.rest.auth.OAuth2Util.refreshToken(OAuth2Util.java:145)\n",
      "\tat org.apache.iceberg.rest.auth.OAuth2Util.access$000(OAuth2Util.java:55)\n",
      "\tat org.apache.iceberg.rest.auth.OAuth2Util$AuthSession.refreshCurrentToken(OAuth2Util.java:473)\n",
      "\tat org.apache.iceberg.rest.auth.OAuth2Util$AuthSession.lambda$refresh$1(OAuth2Util.java:447)\n",
      "\tat org.apache.iceberg.util.Tasks$Builder.runTaskWithRetry(Tasks.java:413)\n",
      "\tat org.apache.iceberg.util.Tasks$Builder.runSingleThreaded(Tasks.java:219)\n",
      "\tat org.apache.iceberg.util.Tasks$Builder.run(Tasks.java:203)\n",
      "\tat org.apache.iceberg.util.Tasks$Builder.run(Tasks.java:196)\n",
      "\tat org.apache.iceberg.rest.auth.OAuth2Util$AuthSession.refresh(OAuth2Util.java:447)\n",
      "\tat org.apache.iceberg.rest.auth.OAuth2Util$AuthSession.lambda$scheduleTokenRefresh$2(OAuth2Util.java:511)\n",
      "\tat java.base/java.util.concurrent.Executors$RunnableAdapter.call(Executors.java:515)\n",
      "\tat java.base/java.util.concurrent.FutureTask.run(FutureTask.java:264)\n",
      "\tat java.base/java.util.concurrent.ScheduledThreadPoolExecutor$ScheduledFutureTask.run(ScheduledThreadPoolExecutor.java:304)\n",
      "\tat java.base/java.util.concurrent.ThreadPoolExecutor.runWorker(ThreadPoolExecutor.java:1128)\n",
      "\tat java.base/java.util.concurrent.ThreadPoolExecutor$Worker.run(ThreadPoolExecutor.java:628)\n",
      "\tat java.base/java.lang.Thread.run(Thread.java:829)\n",
      "25/09/15 18:28:58 WARN Tasks: Retrying task after failure: Malformed request: unsupported_grant_type: The grant type is invalid\n",
      "org.apache.iceberg.exceptions.BadRequestException: Malformed request: unsupported_grant_type: The grant type is invalid\n",
      "\tat org.apache.iceberg.rest.ErrorHandlers$OAuthErrorHandler.accept(ErrorHandlers.java:199)\n",
      "\tat org.apache.iceberg.rest.ErrorHandlers$OAuthErrorHandler.accept(ErrorHandlers.java:173)\n",
      "\tat org.apache.iceberg.rest.HTTPClient.throwFailure(HTTPClient.java:183)\n",
      "\tat org.apache.iceberg.rest.HTTPClient.execute(HTTPClient.java:292)\n",
      "\tat org.apache.iceberg.rest.HTTPClient.execute(HTTPClient.java:226)\n",
      "\tat org.apache.iceberg.rest.HTTPClient.postForm(HTTPClient.java:378)\n",
      "\tat org.apache.iceberg.rest.auth.OAuth2Util.refreshToken(OAuth2Util.java:145)\n",
      "\tat org.apache.iceberg.rest.auth.OAuth2Util.access$000(OAuth2Util.java:55)\n",
      "\tat org.apache.iceberg.rest.auth.OAuth2Util$AuthSession.refreshCurrentToken(OAuth2Util.java:473)\n",
      "\tat org.apache.iceberg.rest.auth.OAuth2Util$AuthSession.lambda$refresh$1(OAuth2Util.java:447)\n",
      "\tat org.apache.iceberg.util.Tasks$Builder.runTaskWithRetry(Tasks.java:413)\n",
      "\tat org.apache.iceberg.util.Tasks$Builder.runSingleThreaded(Tasks.java:219)\n",
      "\tat org.apache.iceberg.util.Tasks$Builder.run(Tasks.java:203)\n",
      "\tat org.apache.iceberg.util.Tasks$Builder.run(Tasks.java:196)\n",
      "\tat org.apache.iceberg.rest.auth.OAuth2Util$AuthSession.refresh(OAuth2Util.java:447)\n",
      "\tat org.apache.iceberg.rest.auth.OAuth2Util$AuthSession.lambda$scheduleTokenRefresh$2(OAuth2Util.java:511)\n",
      "\tat java.base/java.util.concurrent.Executors$RunnableAdapter.call(Executors.java:515)\n",
      "\tat java.base/java.util.concurrent.FutureTask.run(FutureTask.java:264)\n",
      "\tat java.base/java.util.concurrent.ScheduledThreadPoolExecutor$ScheduledFutureTask.run(ScheduledThreadPoolExecutor.java:304)\n",
      "\tat java.base/java.util.concurrent.ThreadPoolExecutor.runWorker(ThreadPoolExecutor.java:1128)\n",
      "\tat java.base/java.util.concurrent.ThreadPoolExecutor$Worker.run(ThreadPoolExecutor.java:628)\n",
      "\tat java.base/java.lang.Thread.run(Thread.java:829)\n",
      "25/09/15 18:28:59 WARN Tasks: Retrying task after failure: Malformed request: unsupported_grant_type: The grant type is invalid\n",
      "org.apache.iceberg.exceptions.BadRequestException: Malformed request: unsupported_grant_type: The grant type is invalid\n",
      "\tat org.apache.iceberg.rest.ErrorHandlers$OAuthErrorHandler.accept(ErrorHandlers.java:199)\n",
      "\tat org.apache.iceberg.rest.ErrorHandlers$OAuthErrorHandler.accept(ErrorHandlers.java:173)\n",
      "\tat org.apache.iceberg.rest.HTTPClient.throwFailure(HTTPClient.java:183)\n",
      "\tat org.apache.iceberg.rest.HTTPClient.execute(HTTPClient.java:292)\n",
      "\tat org.apache.iceberg.rest.HTTPClient.execute(HTTPClient.java:226)\n",
      "\tat org.apache.iceberg.rest.HTTPClient.postForm(HTTPClient.java:378)\n",
      "\tat org.apache.iceberg.rest.auth.OAuth2Util.refreshToken(OAuth2Util.java:145)\n",
      "\tat org.apache.iceberg.rest.auth.OAuth2Util.access$000(OAuth2Util.java:55)\n",
      "\tat org.apache.iceberg.rest.auth.OAuth2Util$AuthSession.refreshCurrentToken(OAuth2Util.java:473)\n",
      "\tat org.apache.iceberg.rest.auth.OAuth2Util$AuthSession.lambda$refresh$1(OAuth2Util.java:447)\n",
      "\tat org.apache.iceberg.util.Tasks$Builder.runTaskWithRetry(Tasks.java:413)\n",
      "\tat org.apache.iceberg.util.Tasks$Builder.runSingleThreaded(Tasks.java:219)\n",
      "\tat org.apache.iceberg.util.Tasks$Builder.run(Tasks.java:203)\n",
      "\tat org.apache.iceberg.util.Tasks$Builder.run(Tasks.java:196)\n",
      "\tat org.apache.iceberg.rest.auth.OAuth2Util$AuthSession.refresh(OAuth2Util.java:447)\n",
      "\tat org.apache.iceberg.rest.auth.OAuth2Util$AuthSession.lambda$scheduleTokenRefresh$2(OAuth2Util.java:511)\n",
      "\tat java.base/java.util.concurrent.Executors$RunnableAdapter.call(Executors.java:515)\n",
      "\tat java.base/java.util.concurrent.FutureTask.run(FutureTask.java:264)\n",
      "\tat java.base/java.util.concurrent.ScheduledThreadPoolExecutor$ScheduledFutureTask.run(ScheduledThreadPoolExecutor.java:304)\n",
      "\tat java.base/java.util.concurrent.ThreadPoolExecutor.runWorker(ThreadPoolExecutor.java:1128)\n",
      "\tat java.base/java.util.concurrent.ThreadPoolExecutor$Worker.run(ThreadPoolExecutor.java:628)\n",
      "\tat java.base/java.lang.Thread.run(Thread.java:829)\n"
     ]
    }
   ],
   "source": [
    "#create a test table\n",
    "spark.sql(\"create table external_managed_table ( first_name STRING,last_name STRING,amount INT,create_date DATE) using iceberg\");"
   ]
  },
  {
   "cell_type": "code",
   "execution_count": null,
   "id": "51d0fb5f-b8cc-4861-ba53-3b16f65c7a24",
   "metadata": {},
   "outputs": [],
   "source": []
  }
 ],
 "metadata": {
  "kernelspec": {
   "display_name": "Python 3 (ipykernel)",
   "language": "python",
   "name": "python3"
  },
  "language_info": {
   "codemirror_mode": {
    "name": "ipython",
    "version": 3
   },
   "file_extension": ".py",
   "mimetype": "text/x-python",
   "name": "python",
   "nbconvert_exporter": "python",
   "pygments_lexer": "ipython3",
   "version": "3.10.17"
  }
 },
 "nbformat": 4,
 "nbformat_minor": 5
}
